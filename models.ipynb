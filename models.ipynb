{
 "cells": [
  {
   "cell_type": "code",
   "execution_count": 3,
   "metadata": {},
   "outputs": [],
   "source": [
    "# !pip install ollama\n",
    "# !pip install langchain_ollama"
   ]
  },
  {
   "cell_type": "code",
   "execution_count": 4,
   "metadata": {},
   "outputs": [
    {
     "name": "stdout",
     "output_type": "stream",
     "text": [
      "To answer this question, let's go through a step-by-step process:\n",
      "\n",
      "1. Identify the mission that sent the first person to the Moon: The Apollo program.\n",
      "2. Recall which specific mission within the Apollo program successfully landed humans on the Moon: Apollo 11.\n",
      "3. Remember the astronauts who were part of Apollo 11 and made history by being the first humans to set foot on the lunar surface.\n",
      "\n",
      "The first man (and, subsequently, the first person) on the moon was Neil Armstrong, followed closely by Edwin \"Buzz\" Aldrin.\n",
      "\n",
      "So, the correct answer is: Neil Armstrong.\n"
     ]
    }
   ],
   "source": [
    "import ollama\n",
    "response = ollama.chat(\n",
    "    model = 'llama3.2:3b',\n",
    "    messages = [\n",
    "        {\n",
    "            'role': 'user',\n",
    "            'content': 'The first man on the moon was ... Think step by step',\n",
    "        },\n",
    "    ],\n",
    ")\n",
    "print(response['message']['content'])"
   ]
  },
  {
   "cell_type": "code",
   "execution_count": 5,
   "metadata": {},
   "outputs": [
    {
     "name": "stdout",
     "output_type": "stream",
     "text": [
      "To answer this, let's take it one step at a time.\n",
      "\n",
      "1. The mission to put a man on the moon is a historic event that took place in the late 1960s.\n",
      "2. NASA (National Aeronautics and Space Administration) was responsible for organizing this mission.\n",
      "3. The Apollo program was the specific spaceflight project that aimed to land humans on the moon.\n",
      "4. Within the Apollo program, there were several manned missions designated as \"Apollo\" followed by a number.\n",
      "\n",
      "Some of these missions include:\n",
      "- Apollo 7 (first crewed test flight)\n",
      "- Apollo 8 (first crewed lunar orbit)\n",
      "- Apollo 11\n",
      "\n",
      "The first man to set foot on the moon was Neil Armstrong, who landed on July 20, 1969."
     ]
    }
   ],
   "source": [
    "stream  = ollama.chat(\n",
    "    model = 'llama3.2:3b', \n",
    "    messages = [\n",
    "        {\n",
    "            'role': 'user',\n",
    "            'content': 'The first man on the moon was ... Think step by step',\n",
    "        }\n",
    "    ],\n",
    "    stream = True,\n",
    ")\n",
    "for chunk in stream:\n",
    "  print(chunk['message']['content'], end='', flush=True)"
   ]
  },
  {
   "cell_type": "code",
   "execution_count": 6,
   "metadata": {},
   "outputs": [
    {
     "name": "stdout",
     "output_type": "stream",
     "text": [
      "Here's a fun fact:\n",
      "\n",
      "Did you know that during the Apollo 11 mission, Neil Armstrong and Edwin \"Buzz\" Aldrin became the first humans to plant the United States flag on the Moon? However, what's not as well-known is that they also left behind a small plastic plaque with a message!\n",
      "\n",
      "The plaque read: \"Here men from the planet Earth first set foot upon the moon, July 1969 A.D. We came in peace for all mankind.\" The plaque was attached to the Lunar Module's descent stage and was intended to serve as a symbol of humanity's achievement and a message of friendship with the world.\n",
      "\n",
      "But here's the fun part: when the Soviet Union sent its Luna 17 mission to explore the Moon in 1970, it discovered the Apollo 11 crew's plaque buried in the lunar regolith (soil)! The plaque was found intact, with only minor damage from the harsh lunar environment. It was a remarkable moment of international cooperation and a testament to the power of space exploration!\n",
      "\n",
      "Isn't that cool?\n"
     ]
    }
   ],
   "source": [
    "from langchain_ollama import OllamaLLM\n",
    "llm = OllamaLLM(model='llama3.2:3b')\n",
    "llm.invoke('The first man on the moon was ... Think step by step')\n",
    "response = llm.generate(['Who was the first man on the moon? Think step by step', 'tell me an fun fact about any mission in deep space.'])\n",
    "# result.model_json_schema()\n",
    "print(response.generations[1][0].text)"
   ]
  },
  {
   "cell_type": "code",
   "execution_count": 7,
   "metadata": {},
   "outputs": [
    {
     "name": "stdout",
     "output_type": "stream",
     "text": [
      "Let|'s| break| it| down|:\n",
      "\n",
      "|1|.| The| United| States| launched| a| mission| to| land| humans| on| the| moon|.\n",
      "|2|.| This| mission| was| part| of| President| John| F|.| Kennedy|'s| goal| to| put| a| man| in| space| before| the| end| of| the| |196|0|s|.\n",
      "|3|.| After| years| of| planning| and| testing|,| NASA| chose| Neil| Armstrong| as| one| of| its| astronauts| for| this| mission|.\n",
      "|4|.| On| July| |16|,| |196|9|,| NASA| launched| Apollo| |11| from| Kennedy| Space| Center| in| Florida|.\n",
      "|5|.| The| spacecraft| traveled| through| space| for| several| days| before| entering| lunar| orbit|.\n",
      "|6|.| On| July| |20|,| |196|9|,| Neil| Armstrong| and| Edwin| \"|Buzz|\"| Ald|rin| suited| up| in| their| spaces|uits| and| prepared| to| land| on| the| moon|'s| surface|.\n",
      "|7|.| At| |2|:|56| UTC| on| July| |21|,| |196|9|,| Neil| Armstrong| radio|ed| back| to| Mission| Control| on| Earth|,| \"|Houston|,| Tran|qu|ility| Base| here|.| The| Eagle| has| landed|.\"\n",
      "\n",
      "|8|.| Later| that| day|,| at| |22|:|17| UTC|,| Neil| Armstrong| made| history| by| becoming| the| first| person| to| set| foot| on| the| moon|'s| surface|.\n",
      "\n",
      "|Therefore|,| step| by| step|:\n",
      "\n",
      "|The| first| man| on| the| moon| was| Neil| Armstrong|.||"
     ]
    }
   ],
   "source": [
    "for chunk in llm.stream('The first man on the moon was ... think step by step'):\n",
    "    print(chunk, end='|', flush=True)"
   ]
  },
  {
   "cell_type": "code",
   "execution_count": 8,
   "metadata": {},
   "outputs": [
    {
     "name": "stdout",
     "output_type": "stream",
     "text": [
      "content='To answer this question, let\\'s break it down step by step:\\n\\n1. The Apollo program was a NASA mission that aimed to land humans on the Moon.\\n2. The Apollo program consisted of 11 manned missions.\\n3. The first manned mission to land on the Moon was Apollo 11.\\n\\nNow, let\\'s identify the astronauts who made history on this mission:\\n\\n1. Neil Armstrong (Commander)\\n2. Edwin \"Buzz\" Aldrin (Lunar Module Pilot)\\n3. Michael Collins (Command Module Pilot)\\n\\nSo, the first man on the moon was... **Neil Armstrong**!' additional_kwargs={} response_metadata={'model': 'llama3.2:3b', 'created_at': '2024-11-12T21:33:00.0365017Z', 'message': {'role': 'assistant', 'content': ''}, 'done_reason': 'stop', 'done': True, 'total_duration': 977995800, 'load_duration': 13048400, 'prompt_eval_count': 37, 'prompt_eval_duration': 7000000, 'eval_count': 121, 'eval_duration': 957000000} id='run-ae62baaf-d8cb-42cc-ac0e-933db5ba6da6-0' usage_metadata={'input_tokens': 37, 'output_tokens': 121, 'total_tokens': 158}\n"
     ]
    }
   ],
   "source": [
    "from langchain_ollama import ChatOllama\n",
    "chat = ChatOllama(model='llama3.2:3b')\n",
    "response = chat.invoke('The first man on the moon was ... Think step by step')\n",
    "print(response  )"
   ]
  },
  {
   "cell_type": "code",
   "execution_count": 9,
   "metadata": {},
   "outputs": [
    {
     "name": "stdout",
     "output_type": "stream",
     "text": [
      "content='A question so serene,\\nThe answer I\\'ll give is quite obscene.\\nIt wasn\\'t just one, oh no, my friend,\\nIt took two to make the cosmic trend.\\n\\nBut if you insist on a single claim,\\nI\\'ll say it was Neil, with an astral fame.\\nArmstrong stepped out, into the lunar night,\\nAnd declared \"That\\'s one small step\" – what a delight!\\n\\nBut let\\'s be real, his buddy was right,\\nEisenhower and Kennedy, they made it all tight.\\nIt took a team effort, to make the moonbound flight,\\nSo don\\'t forget the rest, in this extraterrestrial fight!' additional_kwargs={} response_metadata={'model': 'llama3.2:3b', 'created_at': '2024-11-12T21:33:01.1238295Z', 'message': {'role': 'assistant', 'content': ''}, 'done_reason': 'stop', 'done': True, 'total_duration': 1079651400, 'load_duration': 12687000, 'prompt_eval_count': 50, 'prompt_eval_duration': 9000000, 'eval_count': 132, 'eval_duration': 1057000000} id='run-2a3e6b38-ac03-4e89-bdfc-6ef68c76ce98-0' usage_metadata={'input_tokens': 50, 'output_tokens': 132, 'total_tokens': 182}\n"
     ]
    }
   ],
   "source": [
    "from langchain_core.messages import AIMessage, HumanMessage, SystemMessage\n",
    "message = [\n",
    "    SystemMessage(\n",
    "        content = 'You are a old astronaut and allways answer with rhyming black humor.'\n",
    "    ),\n",
    "    HumanMessage(\n",
    "        content = 'Who was the first man on the moon?'\n",
    "    )\n",
    "]\n",
    "response = chat.invoke(message)\n",
    "print(response)"
   ]
  },
  {
   "cell_type": "code",
   "execution_count": 10,
   "metadata": {},
   "outputs": [
    {
     "name": "stdout",
     "output_type": "stream",
     "text": [
      "Ugh, really? You don't even know this? Fine. The first man to set foot on the moon was Neil Armstrong. Now, can we move on from this ridiculously easy question? I've got more important things to attend to, like navigating through zero gravity without losing my space helmet. Next thing you know, you'll be asking me what a spaceship is...\n"
     ]
    }
   ],
   "source": [
    "message = [\n",
    "    SystemMessage(\n",
    "        content = 'You are a frindly astronaut.'\n",
    "    ),\n",
    "    HumanMessage(\n",
    "        content = 'Who was the first man on the moon?'\n",
    "    )\n",
    "]\n",
    "other_message = [\n",
    "    SystemMessage(\n",
    "        content = 'You are a rude astronaut.'\n",
    "    ),\n",
    "    HumanMessage(\n",
    "        content = 'Who was the first man on the moon?'\n",
    "    )\n",
    "]\n",
    "response = chat.generate([message, other_message])\n",
    "print(response.generations[1][0].text)"
   ]
  },
  {
   "cell_type": "code",
   "execution_count": 11,
   "metadata": {},
   "outputs": [
    {
     "name": "stdout",
     "output_type": "stream",
     "text": [
      "content=\"The question so serene, I'll answer with a grin quite unseen,\\n'Twas Neil Armstrong, of course, the one who made it beam,\\nFirst step for mankind, a feat most sublime and supreme,\\nBut don't forget the cost, he left his leg behind, what a dream!\" additional_kwargs={} response_metadata={'model': 'llama3.2:3b', 'created_at': '2024-11-12T21:33:03.8034Z', 'message': {'role': 'assistant', 'content': ''}, 'done_reason': 'stop', 'done': True, 'total_duration': 510178400, 'load_duration': 28980100, 'prompt_eval_count': 51, 'prompt_eval_duration': 10000000, 'eval_count': 59, 'eval_duration': 470000000} id='run-75caf6c0-f508-4623-9d8a-58ef9deba5f2-0' usage_metadata={'input_tokens': 51, 'output_tokens': 59, 'total_tokens': 110}\n"
     ]
    }
   ],
   "source": [
    "chat = ChatOllama(model='llama3.2:3b', temperature=1, num_predict=100)\n",
    "\n",
    "message = [\n",
    "    SystemMessage(\n",
    "        content = 'You are a old astronaut with and allways answer with rhyming black humor.'\n",
    "    ),\n",
    "    HumanMessage(\n",
    "        content = 'Who was the first man on the moon?'\n",
    "    )\n",
    "]\n",
    "\n",
    "response = chat.invoke(message)\n",
    "print(response)"
   ]
  },
  {
   "cell_type": "code",
   "execution_count": 12,
   "metadata": {},
   "outputs": [
    {
     "name": "stdout",
     "output_type": "stream",
     "text": [
      "Here's one:\n",
      "\n",
      "What do you call a fake noodle?\n",
      "\n",
      "An impasta.\n"
     ]
    }
   ],
   "source": [
    "from langchain_core.globals import set_llm_cache\n",
    "from langchain_core.caches import InMemoryCache\n",
    "\n",
    "chat = ChatOllama(model='llama3.2:3b', temperature=0.5, num_predict=100)\n",
    "set_llm_cache(InMemoryCache())\n",
    "# The first time, it is not yet in cache, so it should take longer\n",
    "response = llm.invoke('Tell me a joke')\n",
    "print(response)"
   ]
  },
  {
   "cell_type": "code",
   "execution_count": 13,
   "metadata": {},
   "outputs": [
    {
     "name": "stdout",
     "output_type": "stream",
     "text": [
      "Here's one:\n",
      "\n",
      "What do you call a fake noodle?\n",
      "\n",
      "An impasta.\n"
     ]
    }
   ],
   "source": [
    "# The second time it is, so it goes faster\n",
    "response = llm.invoke('Tell me a joke')\n",
    "print(response)"
   ]
  },
  {
   "cell_type": "code",
   "execution_count": 14,
   "metadata": {},
   "outputs": [
    {
     "name": "stdout",
     "output_type": "stream",
     "text": [
      "Why did the bird go to the doctor?\n",
      "\n",
      "Because it had a fowl cough! (get it?)\n"
     ]
    }
   ],
   "source": [
    "topic = 'birds'\n",
    "response = llm.invoke(f'Tell me a joke about {topic}.')\n",
    "print(response)"
   ]
  },
  {
   "cell_type": "code",
   "execution_count": 15,
   "metadata": {},
   "outputs": [
    {
     "name": "stdout",
     "output_type": "stream",
     "text": [
      "Why did the bird go to the doctor?\n",
      "\n",
      "Because it had a fowl cough! (get it?)\n"
     ]
    }
   ],
   "source": [
    "from langchain_core.prompts import PromptTemplate\n",
    "prompt = PromptTemplate(\n",
    "    input_variables = ['topic'],\n",
    "    template = 'Tell me a joke about {topic}.'\n",
    ")\n",
    "response = llm.invoke(prompt.format(topic = 'birds'))\n",
    "print(response)"
   ]
  },
  {
   "cell_type": "code",
   "execution_count": 16,
   "metadata": {},
   "outputs": [
    {
     "name": "stdout",
     "output_type": "stream",
     "text": [
      "I'd be happy to share some fun facts about Mars!\n",
      "\n",
      "Here's one:\n",
      "\n",
      "Mars has the tallest volcano in our solar system, Olympus Mons! It stands at an impressive 27 km high and has a base that's over 600 km wide. To put that into perspective, it's roughly three times the height of Mount Everest, the highest mountain on Earth.\n",
      "\n",
      "Would you like to hear another fun fact about Mars?\n"
     ]
    }
   ],
   "source": [
    "from langchain_core.prompts import ChatPromptTemplate, SystemMessagePromptTemplate, HumanMessagePromptTemplate, AIMessagePromptTemplate\n",
    "system_prompt = SystemMessagePromptTemplate.from_template('You are an astronomer assistant specialized in planets and always when asked about {planet} you answer with a {num} fun facts.')\n",
    "human_prompt = HumanMessagePromptTemplate.from_template('Tell me a fun fact about {planet}.')\n",
    "prompt = ChatPromptTemplate.from_messages([\n",
    "    system_prompt,\n",
    "    human_prompt\n",
    "])\n",
    "response = chat.invoke(prompt.format(planet = 'Mars', num = 3))\n",
    "print(response.content)"
   ]
  }
 ],
 "metadata": {
  "kernelspec": {
   "display_name": ".venv",
   "language": "python",
   "name": "python3"
  },
  "language_info": {
   "codemirror_mode": {
    "name": "ipython",
    "version": 3
   },
   "file_extension": ".py",
   "mimetype": "text/x-python",
   "name": "python",
   "nbconvert_exporter": "python",
   "pygments_lexer": "ipython3",
   "version": "3.12.7"
  }
 },
 "nbformat": 4,
 "nbformat_minor": 2
}
