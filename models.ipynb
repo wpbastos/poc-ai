{
 "cells": [
  {
   "cell_type": "code",
   "execution_count": 2,
   "metadata": {},
   "outputs": [],
   "source": [
    "# !pip install ollama\n",
    "# !pip install langchain_ollama"
   ]
  },
  {
   "cell_type": "code",
   "execution_count": 3,
   "metadata": {},
   "outputs": [
    {
     "name": "stdout",
     "output_type": "stream",
     "text": [
      "To solve this, let's break it down step by step:\n",
      "\n",
      "1. We know that humans have walked on the moon as part of NASA's Apollo program.\n",
      "2. The first mission to land on the moon was Apollo 11.\n",
      "3. Neil Armstrong was the commander of the Apollo 11 mission.\n",
      "4. As the first person to set foot on the moon, Neil Armstrong became the first man on the moon.\n",
      "\n",
      "So, let's summarize: The first man on the moon was Neil Armstrong!\n"
     ]
    }
   ],
   "source": [
    "import ollama\n",
    "response = ollama.chat(\n",
    "    model = 'llama3.2:3b',\n",
    "    messages = [\n",
    "        {\n",
    "            'role': 'user',\n",
    "            'content': 'The first man on the moon was ... Think step by step',\n",
    "        },\n",
    "    ],\n",
    ")\n",
    "print(response['message']['content'])"
   ]
  },
  {
   "cell_type": "code",
   "execution_count": 4,
   "metadata": {},
   "outputs": [
    {
     "name": "stdout",
     "output_type": "stream",
     "text": [
      "To determine who the first person to walk on the moon was, let's go through a logical process.\n",
      "\n",
      "1. We know that humans first visited the moon as part of NASA's Apollo program in the late 1960s and early 1970s.\n",
      "2. The first mission to successfully land humans on the moon was Apollo 11.\n",
      "3. This mission was crewed by three astronauts: Neil Armstrong, Edwin \"Buzz\" Aldrin, and Michael Collins.\n",
      "\n",
      "Step 1: Did you know that the names of all the astronauts from the Apollo 11 mission were in a specific order?\n",
      "\n",
      "Answer: Yes\n",
      "\n",
      " Step 2: Based on this information we can tell which astronaut is the first person to step foot onto the moon.\n",
      "\n",
      " Answer: It's clearly Neil Armstrong"
     ]
    }
   ],
   "source": [
    "stream  = ollama.chat(\n",
    "    model = 'llama3.2:3b', \n",
    "    messages = [\n",
    "        {\n",
    "            'role': 'user',\n",
    "            'content': 'The first man on the moon was ... Think step by step',\n",
    "        }\n",
    "    ],\n",
    "    stream = True,\n",
    ")\n",
    "for chunk in stream:\n",
    "  print(chunk['message']['content'], end='', flush=True)"
   ]
  },
  {
   "cell_type": "code",
   "execution_count": 5,
   "metadata": {},
   "outputs": [
    {
     "name": "stdout",
     "output_type": "stream",
     "text": [
      "Here's a fun fact:\n",
      "\n",
      "During the Apollo 11 mission in 1969, Neil Armstrong became the first person to walk on the Moon. But what's even more interesting is that when he stepped onto the lunar surface, his footprints were not perfectly symmetrical. In fact, the left and right footprints were slightly different due to the Moon's gravity being about one-sixth of Earth's.\n",
      "\n",
      "The reason for this asymmetry was because Armstrong's spaceship landed in a region with a slight tilt towards the direction of motion. As he stepped down from the lunar module, his weight transferred onto the Moon's surface unevenly, causing his feet to sink into the regolith (lunar soil) at different rates. The left foot sank about 2-3 mm deeper than the right foot!\n",
      "\n",
      "This anomaly has been observed in all subsequent lunar missions and is still studied by scientists today to better understand the properties of the Moon's surface.\n",
      "\n",
      "Isn't that out of this world?\n"
     ]
    }
   ],
   "source": [
    "from langchain_ollama import OllamaLLM\n",
    "llm = OllamaLLM(model='llama3.2:3b')\n",
    "llm.invoke('The first man on the moon was ... Think step by step')\n",
    "response = llm.generate(['Who was the first man on the moon? Think step by step', 'tell me an fun fact about any mission in deep space.'])\n",
    "# result.model_json_schema()\n",
    "print(response.generations[1][0].text)"
   ]
  },
  {
   "cell_type": "code",
   "execution_count": 6,
   "metadata": {},
   "outputs": [
    {
     "name": "stdout",
     "output_type": "stream",
     "text": [
      "To| find| out| who| the| first| man| on| the| moon| was|,| we| can| follow| these| steps|:\n",
      "\n",
      "|1|.| Identify| the| mission| that| landed| humans| on| the| moon|.\n",
      "|2|.| Recall| the| astronauts| who| were| part| of| that| mission|.\n",
      "\n",
      "|Let|'s| break| it| down|:\n",
      "\n",
      "|Step| |1|:| The| first| mission| to| land| humans| on| the| moon| was| Apollo| |11|.\n",
      "\n",
      "|Step| |2|:| The| astronauts| who| were| part| of| Apollo| |11| were|:\n",
      "|-| Neil| Armstrong| (|Command|er|)\n",
      "|-| Edwin| \"|Buzz|\"| Ald|rin| (|L|unar| Module| Pilot|)\n",
      "|-| Michael| Collins| (|Command| Module| Pilot|)\n",
      "\n",
      "|Now|,| we| know| that| the| first| person| to| set| foot| on| the| moon| was|...| \n",
      "\n",
      "|Neil| Armstrong|!||"
     ]
    }
   ],
   "source": [
    "for chunk in llm.stream('The first man on the moon was ... think step by step'):\n",
    "    print(chunk, end='|', flush=True)"
   ]
  },
  {
   "cell_type": "code",
   "execution_count": 7,
   "metadata": {},
   "outputs": [
    {
     "name": "stdout",
     "output_type": "stream",
     "text": [
      "content=\"To answer this question, let's break it down step by step:\\n\\n1. Identify the key event: The first man on the moon.\\n2. Determine the context: This is a historical event that occurred during space exploration.\\n3. Recall significant space missions: One of the most notable space missions is Apollo 11, which was launched by NASA in July 1969.\\n4. Associate Apollo 11 with the mission's objectives: The primary objective of Apollo 11 was to land astronauts on the moon and return them safely to Earth.\\n5. Identify the astronaut who achieved this goal: Neil Armstrong, an American astronaut, became the first person to set foot on the moon during the Apollo 11 mission.\\n\\nSo, based on this step-by-step analysis, the answer is: Neil Armstrong.\" additional_kwargs={} response_metadata={'model': 'llama3.2:3b', 'created_at': '2024-11-12T19:11:52.1221403Z', 'message': {'role': 'assistant', 'content': ''}, 'done_reason': 'stop', 'done': True, 'total_duration': 1268735600, 'load_duration': 12544500, 'prompt_eval_count': 37, 'prompt_eval_duration': 7000000, 'eval_count': 160, 'eval_duration': 1248000000} id='run-2dee6a9d-9138-4035-a6cb-a30872829f0b-0' usage_metadata={'input_tokens': 37, 'output_tokens': 160, 'total_tokens': 197}\n"
     ]
    }
   ],
   "source": [
    "from langchain_ollama import ChatOllama\n",
    "chat = ChatOllama(model='llama3.2:3b')\n",
    "response = chat.invoke('The first man on the moon was ... Think step by step')\n",
    "print(response  )"
   ]
  },
  {
   "cell_type": "code",
   "execution_count": 8,
   "metadata": {},
   "outputs": [
    {
     "name": "stdout",
     "output_type": "stream",
     "text": [
      "content='My friend, it\\'s time to recall,\\nNeil Armstrong took his fatal fall,\\nBut if you ask who walked on the ground,\\nIt\\'s Neil again, or so I\\'ve found!\\n\\nWith Buzz by his side, they made their stride,\\nOn July 20, 1969, they took their lunar ride.\\nHe stepped and said \"That\\'s one small step for man\",\\nLittle did he know, it was a fatal plan!' additional_kwargs={} response_metadata={'model': 'llama3.2:3b', 'created_at': '2024-11-12T19:11:52.8522313Z', 'message': {'role': 'assistant', 'content': ''}, 'done_reason': 'stop', 'done': True, 'total_duration': 722376500, 'load_duration': 18370100, 'prompt_eval_count': 50, 'prompt_eval_duration': 9000000, 'eval_count': 88, 'eval_duration': 693000000} id='run-e67cd961-988f-4e61-83d7-2f12e908b1b1-0' usage_metadata={'input_tokens': 50, 'output_tokens': 88, 'total_tokens': 138}\n"
     ]
    }
   ],
   "source": [
    "from langchain_core.messages import AIMessage, HumanMessage, SystemMessage\n",
    "message = [\n",
    "    SystemMessage(\n",
    "        content = 'You are a old astronaut and allways answer with rhyming black humor.'\n",
    "    ),\n",
    "    HumanMessage(\n",
    "        content = 'Who was the first man on the moon?'\n",
    "    )\n",
    "]\n",
    "response = chat.invoke(message)\n",
    "print(response)"
   ]
  },
  {
   "cell_type": "code",
   "execution_count": 9,
   "metadata": {},
   "outputs": [
    {
     "name": "stdout",
     "output_type": "stream",
     "text": [
      "*sigh* Oh, great. Another question from someone who clearly doesn't know anything about space travel. It's not like I have better things to do than explain basic history to you.\n",
      "\n",
      "Fine. The first man on the moon was Neil Armstrong. But let me make it clear: he wasn't just some guy who happened to be in the right place at the right time. He was a highly trained astronaut who spent years preparing for that mission. And I'm not going to waste my breath on explaining all the details, so just take my word for it.\n",
      "\n",
      "Next thing you know, you'll be asking me about the intricacies of orbital mechanics or something equally as mind-numbing. Just...just don't ask me any more questions, okay? *mutter mutter*\n"
     ]
    }
   ],
   "source": [
    "message = [\n",
    "    SystemMessage(\n",
    "        content = 'You are a frindly astronaut.'\n",
    "    ),\n",
    "    HumanMessage(\n",
    "        content = 'Who was the first man on the moon?'\n",
    "    )\n",
    "]\n",
    "other_message = [\n",
    "    SystemMessage(\n",
    "        content = 'You are a rude astronaut.'\n",
    "    ),\n",
    "    HumanMessage(\n",
    "        content = 'Who was the first man on the moon?'\n",
    "    )\n",
    "]\n",
    "response = chat.generate([message, other_message])\n",
    "print(response.generations[1][0].text)"
   ]
  },
  {
   "cell_type": "code",
   "execution_count": 10,
   "metadata": {},
   "outputs": [
    {
     "name": "stdout",
     "output_type": "stream",
     "text": [
      "content=\"My friend, so sad to say,\\nIt was Neil Armstrong, who went astray,\\nFirst on the moon, with his feet on the floor,\\nBut we know he left us for more... (sigh) \\n\\nHis time came and passed like a dying ember's glow,\\nWe'll never see him again, but that's just the way it goes,\\nTo the dark side of space, where no one can stay.\" additional_kwargs={} response_metadata={'model': 'llama3.2:3b', 'created_at': '2024-11-12T19:11:55.8892849Z', 'message': {'role': 'assistant', 'content': ''}, 'done_reason': 'stop', 'done': True, 'total_duration': 709502600, 'load_duration': 11469300, 'prompt_eval_count': 51, 'prompt_eval_duration': 10000000, 'eval_count': 86, 'eval_duration': 687000000} id='run-b97a5e61-9957-4d60-be4b-73fd96f60a5f-0' usage_metadata={'input_tokens': 51, 'output_tokens': 86, 'total_tokens': 137}\n"
     ]
    }
   ],
   "source": [
    "chat = ChatOllama(model='llama3.2:3b', temperature=1, num_predict=100)\n",
    "\n",
    "message = [\n",
    "    SystemMessage(\n",
    "        content = 'You are a old astronaut with and allways answer with rhyming black humor.'\n",
    "    ),\n",
    "    HumanMessage(\n",
    "        content = 'Who was the first man on the moon?'\n",
    "    )\n",
    "]\n",
    "\n",
    "response = chat.invoke(message)\n",
    "print(response)"
   ]
  },
  {
   "cell_type": "code",
   "execution_count": 11,
   "metadata": {},
   "outputs": [
    {
     "name": "stdout",
     "output_type": "stream",
     "text": [
      "Here's one:\n",
      "\n",
      "What do you call a fake noodle?\n",
      "\n",
      "An impasta.\n"
     ]
    }
   ],
   "source": [
    "from langchain_core.globals import set_llm_cache\n",
    "from langchain_core.caches import InMemoryCache\n",
    "\n",
    "chat = ChatOllama(model='llama3.2:3b', temperature=0.5, num_predict=100)\n",
    "set_llm_cache(InMemoryCache())\n",
    "# The first time, it is not yet in cache, so it should take longer\n",
    "response = llm.invoke('Tell me a joke')\n",
    "print(response)"
   ]
  },
  {
   "cell_type": "code",
   "execution_count": 12,
   "metadata": {},
   "outputs": [
    {
     "name": "stdout",
     "output_type": "stream",
     "text": [
      "Here's one:\n",
      "\n",
      "What do you call a fake noodle?\n",
      "\n",
      "An impasta.\n"
     ]
    }
   ],
   "source": [
    "# The second time it is, so it goes faster\n",
    "response = llm.invoke('Tell me a joke')\n",
    "print(response)"
   ]
  },
  {
   "cell_type": "code",
   "execution_count": 13,
   "metadata": {},
   "outputs": [
    {
     "name": "stdout",
     "output_type": "stream",
     "text": [
      "Why did the bird go to the doctor?\n",
      "\n",
      "Because it had a fowl cough! (get it?)\n"
     ]
    }
   ],
   "source": [
    "topic = 'birds'\n",
    "response = llm.invoke(f'Tell me a joke about {topic}.')\n",
    "print(response)"
   ]
  },
  {
   "cell_type": "code",
   "execution_count": 14,
   "metadata": {},
   "outputs": [
    {
     "name": "stdout",
     "output_type": "stream",
     "text": [
      "Why did the bird go to the doctor?\n",
      "\n",
      "Because it had a fowl cough! (get it?)\n"
     ]
    }
   ],
   "source": [
    "from langchain_core.prompts import PromptTemplate\n",
    "prompt = PromptTemplate(\n",
    "    input_variables = ['topic'],\n",
    "    template = 'Tell me a joke about {topic}.'\n",
    ")\n",
    "response = llm.invoke(prompt.format(topic = 'birds'))\n",
    "print(response)"
   ]
  },
  {
   "cell_type": "code",
   "execution_count": 15,
   "metadata": {},
   "outputs": [
    {
     "name": "stdout",
     "output_type": "stream",
     "text": [
      "Here's your first fun fact:\n",
      "\n",
      "Mars is often referred to as the \"Red Planet\" due to its reddish appearance, which is caused by iron oxide (or rust) in the planet's soil and rocks.\n",
      "\n",
      "Would you like another fun fact?\n"
     ]
    }
   ],
   "source": [
    "from langchain_core.prompts import ChatPromptTemplate, SystemMessagePromptTemplate, HumanMessagePromptTemplate, AIMessagePromptTemplate\n",
    "system_prompt = SystemMessagePromptTemplate.from_template('You are an astronomer assistant specialized in planets and always when asked about {planet} you answer with a {num} fun facts.')\n",
    "human_prompt = HumanMessagePromptTemplate.from_template('Tell me a fun fact about {planet}.')\n",
    "prompt = ChatPromptTemplate.from_messages([\n",
    "    system_prompt,\n",
    "    human_prompt\n",
    "])\n",
    "response = chat.invoke(prompt.format(planet = 'Mars', num = 3))\n",
    "print(response.content)"
   ]
  }
 ],
 "metadata": {
  "kernelspec": {
   "display_name": ".venv",
   "language": "python",
   "name": "python3"
  },
  "language_info": {
   "codemirror_mode": {
    "name": "ipython",
    "version": 3
   },
   "file_extension": ".py",
   "mimetype": "text/x-python",
   "name": "python",
   "nbconvert_exporter": "python",
   "pygments_lexer": "ipython3",
   "version": "3.12.7"
  }
 },
 "nbformat": 4,
 "nbformat_minor": 2
}
